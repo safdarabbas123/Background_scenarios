{
 "cells": [
  {
   "cell_type": "code",
   "execution_count": 16,
   "id": "51294f49",
   "metadata": {},
   "outputs": [],
   "source": [
    "from premise import *\n",
    "import bw2data"
   ]
  },
  {
   "cell_type": "code",
   "execution_count": 17,
   "id": "b7d9b6cb",
   "metadata": {},
   "outputs": [],
   "source": [
    "bw2data.projects.set_current(\"premise\")"
   ]
  },
  {
   "cell_type": "code",
   "execution_count": 18,
   "id": "925230f4",
   "metadata": {},
   "outputs": [],
   "source": [
    "import bw2io"
   ]
  },
  {
   "cell_type": "code",
   "execution_count": 36,
   "id": "ed81e1bc",
   "metadata": {},
   "outputs": [
    {
     "name": "stdout",
     "output_type": "stream",
     "text": [
      "Biosphere database already present!!! No setup is needed\n"
     ]
    }
   ],
   "source": [
    "#bw2io.bw2setup()"
   ]
  },
  {
   "cell_type": "code",
   "execution_count": 37,
   "id": "ec51d6d7",
   "metadata": {},
   "outputs": [],
   "source": [
    "#filepath = r\"C:\\Users\\sabbas\\OneDrive - TU Wien\\Desktop\\ecoinvent 3.9_cutoff_ecoSpold02\\datasets\""
   ]
  },
  {
   "cell_type": "code",
   "execution_count": 38,
   "id": "b0e1c357",
   "metadata": {},
   "outputs": [],
   "source": [
    "#from bw2io.importers.ecospold2 import SingleOutputEcospold2Importer"
   ]
  },
  {
   "cell_type": "code",
   "execution_count": 39,
   "id": "4ec924d7",
   "metadata": {},
   "outputs": [
    {
     "name": "stdout",
     "output_type": "stream",
     "text": [
      "Extracting XML data from 19565 datasets\n",
      "Extracted 19565 datasets in 34.45 seconds\n",
      "Applying strategy: normalize_units\n",
      "Applying strategy: update_ecoinvent_locations\n",
      "Applying strategy: remove_zero_amount_coproducts\n",
      "Applying strategy: remove_zero_amount_inputs_with_no_activity\n",
      "Applying strategy: remove_unnamed_parameters\n",
      "Applying strategy: es2_assign_only_product_with_amount_as_reference_product\n",
      "Applying strategy: assign_single_product_as_activity\n",
      "Applying strategy: create_composite_code\n",
      "Applying strategy: drop_unspecified_subcategories\n",
      "Applying strategy: fix_ecoinvent_flows_pre35\n",
      "Applying strategy: drop_temporary_outdated_biosphere_flows\n",
      "Applying strategy: link_biosphere_by_flow_uuid\n",
      "Applying strategy: link_internal_technosphere_by_composite_code\n",
      "Applying strategy: delete_exchanges_missing_activity\n",
      "Applying strategy: delete_ghost_exchanges\n",
      "Applying strategy: remove_uncertainty_from_negative_loss_exchanges\n",
      "Applying strategy: fix_unreasonably_high_lognormal_uncertainties\n",
      "Applying strategy: set_lognormal_loc_value\n",
      "Applying strategy: convert_activity_parameters_to_list\n",
      "Applying strategy: add_cpc_classification_from_single_reference_product\n",
      "Applying strategy: delete_none_synonyms\n",
      "Applied 21 strategies in 6.40 seconds\n",
      "19565 datasets\n",
      "629959 exchanges\n",
      "0 unlinked exchanges\n",
      "  \n"
     ]
    },
    {
     "data": {
      "text/plain": [
       "(19565, 629959, 0)"
      ]
     },
     "execution_count": 39,
     "metadata": {},
     "output_type": "execute_result"
    }
   ],
   "source": [
    "#ei = SingleOutputEcospold2Importer(filepath,\"ecoinvent 3.9 cutoff\")\n",
    "#ei.apply_strategies()\n",
    "#ei.statistics()"
   ]
  },
  {
   "cell_type": "code",
   "execution_count": 40,
   "id": "bd9653d5",
   "metadata": {},
   "outputs": [
    {
     "name": "stderr",
     "output_type": "stream",
     "text": [
      "Writing activities to SQLite3 database:\n",
      "0% [##############################] 100% | ETA: 00:00:00\n",
      "Total time elapsed: 00:00:30\n"
     ]
    },
    {
     "name": "stdout",
     "output_type": "stream",
     "text": [
      "Title: Writing activities to SQLite3 database:\n",
      "  Started: 06/30/2023 10:16:33\n",
      "  Finished: 06/30/2023 10:17:03\n",
      "  Total time elapsed: 00:00:30\n",
      "  CPU %: 99.90\n",
      "  Memory %: 29.63\n",
      "Created database: ecoinvent 3.8 cutoff\n"
     ]
    },
    {
     "data": {
      "text/plain": [
       "Brightway2 SQLiteBackend: ecoinvent 3.8 cutoff"
      ]
     },
     "execution_count": 40,
     "metadata": {},
     "output_type": "execute_result"
    }
   ],
   "source": [
    "#ei.write_database()"
   ]
  },
  {
   "cell_type": "code",
   "execution_count": 19,
   "id": "e85c7016",
   "metadata": {},
   "outputs": [
    {
     "data": {
      "text/plain": [
       "Databases dictionary with 24 objects, including:\n",
       "\tHTL_Scenario1a\n",
       "\tLCA_elect\n",
       "\tbackground_scenarios_HTL_1a\n",
       "\tbiosphere3\n",
       "\tcutoff391\n",
       "\tecoinvent_cutoff_3.9_image_SSP2-RCP19_2050\n",
       "\tecoinvent_cutoff_3.9_remind_SSP2-Base_2030\n",
       "\tecoinvent_cutoff_3.9_remind_SSP2-Base_2040\n",
       "\tecoinvent_cutoff_3.9_remind_SSP2-Base_2050\n",
       "\tecoinvent_cutoff_3.9_remind_SSP2-NDC_2030\n",
       "Use `list(this object)` to get the complete list."
      ]
     },
     "execution_count": 19,
     "metadata": {},
     "output_type": "execute_result"
    }
   ],
   "source": [
    "bw2io.databases"
   ]
  },
  {
   "cell_type": "code",
   "execution_count": 5,
   "id": "bba107f7",
   "metadata": {},
   "outputs": [
    {
     "name": "stdout",
     "output_type": "stream",
     "text": [
      "Cache folder cleared!\n"
     ]
    }
   ],
   "source": [
    "clear_cache()"
   ]
  },
  {
   "cell_type": "code",
   "execution_count": 20,
   "id": "b33dc093",
   "metadata": {},
   "outputs": [],
   "source": [
    "from brightway2 import *\n",
    "from bw2io.importers.ecospold2 import SingleOutputEcospold2Importer"
   ]
  },
  {
   "cell_type": "code",
   "execution_count": 56,
   "id": "e7cc5f27",
   "metadata": {},
   "outputs": [
    {
     "name": "stdout",
     "output_type": "stream",
     "text": [
      "premise v.(1, 5, 0, 'beta', 3)\n",
      "+------------------------------------------------------------------+\n",
      "| Warning                                                          |\n",
      "+------------------------------------------------------------------+\n",
      "| Because some of the scenarios can yield LCI databases            |\n",
      "| containing net negative emission technologies (NET),             |\n",
      "| it is advised to account for biogenic CO2 flows when calculating |\n",
      "| Global Warming potential indicators.                             |\n",
      "| `premise_gwp` provides characterization factors for such flows.  |\n",
      "| It also provides factors for hydrogen emissions to air.          |\n",
      "|                                                                  |\n",
      "| Within your bw2 project:                                         |\n",
      "| from premise_gwp import add_premise_gwp                          |\n",
      "| add_premise_gwp()                                                |\n",
      "+------------------------------------------------------------------+\n",
      "+--------------------------------+----------------------------------+\n",
      "| Utils functions                | Description                      |\n",
      "+--------------------------------+----------------------------------+\n",
      "| clear_cache()                  | Clears the cache folder. Useful  |\n",
      "|                                | when updating `premise`or        |\n",
      "|                                | encountering issues with         |\n",
      "|                                | inventories.                     |\n",
      "+--------------------------------+----------------------------------+\n",
      "| get_regions_definition(model)  | Retrieves the list of countries  |\n",
      "|                                | for each region of the model.    |\n",
      "+--------------------------------+----------------------------------+\n",
      "| ndb.NewDatabase(...)           | Generates a summary of the most  |\n",
      "| ndb.generate_scenario_report() | important scenarios' variables.  |\n",
      "+--------------------------------+----------------------------------+\n",
      "Keep uncertainty data?\n",
      "NewDatabase(..., keep_uncertainty_data=True)\n",
      "\n",
      "Hide these messages?\n",
      "NewDatabase(..., quiet=True)\n",
      "\n",
      "//////////////////// EXTRACTING SOURCE DATABASE ////////////////////\n",
      "Done!\n",
      "\n",
      "////////////////// IMPORTING DEFAULT INVENTORIES ///////////////////\n",
      "Done!\n",
      "\n",
      "/////////////////////// EXTRACTING IAM DATA ////////////////////////\n",
      "Done!\n"
     ]
    }
   ],
   "source": [
    "ndb = NewDatabase(\n",
    "    scenarios=[\n",
    "       {\"model\":\"remind\", \"pathway\":\"SSP2-Base\", \"year\":2050},\n",
    "    ],\n",
    "    source_db=\"cutoff391\", # <-- name of the database in the BW2 project. Must be a string.\n",
    "    source_version=\"3.9.1\", # <-- version of ecoinvent. Can be \"3.5\", \"3.6\", \"3.7\" or \"3.8\". Must be a string.\n",
    "    key='tUePmX_S5B8ieZkkM7WUU2CnO8SmShwmAeWK9x2rTFo=' # <-- decryption key\n",
    "    # to be requested from the library maintainers if you want ot use default scenarios included in `premise`\n",
    ")"
   ]
  },
  {
   "cell_type": "code",
   "execution_count": 57,
   "id": "a91948ba",
   "metadata": {},
   "outputs": [
    {
     "name": "stdout",
     "output_type": "stream",
     "text": [
      "\n",
      "/////////////////////////// ELECTRICITY ////////////////////////////\n",
      "Update efficiency of solar PV panels.\n",
      "Create biomass markets.\n",
      "Replace biomass inputs.\n",
      "Create region-specific power plants.\n",
      "Empty old electricity datasets\n",
      "Create high voltage markets.\n",
      "Create medium voltage markets.\n",
      "Create low voltage markets.\n",
      "Done!\n",
      "Adjust efficiency of power plants...\n",
      "Rescale inventories and emissions for Gas CC CCS\n",
      "Rescale inventories and emissions for Coal IGCC\n",
      "Rescale inventories and emissions for Oil ST\n",
      "Rescale inventories and emissions for Coal PC\n",
      "Rescale inventories and emissions for Gas CC\n",
      "Rescale inventories and emissions for Coal PC CCS\n",
      "Rescale inventories and emissions for Biomass CHP\n",
      "Rescale inventories and emissions for Coal IGCC CCS\n",
      "Rescale inventories and emissions for Coal CHP\n",
      "Rescale inventories and emissions for Gas CHP\n",
      "Rescale inventories and emissions for Biomass IGCC CCS\n",
      "Rescale inventories and emissions for Biomass IGCC\n",
      "Rescale inventories and emissions for Gas OC\n"
     ]
    }
   ],
   "source": [
    "ndb.update_electricity()"
   ]
  },
  {
   "cell_type": "code",
   "execution_count": 58,
   "id": "1d05c2bd",
   "metadata": {},
   "outputs": [
    {
     "name": "stdout",
     "output_type": "stream",
     "text": [
      "\n",
      "////////////////////////////// FUELS ///////////////////////////////\n",
      "Generate region-specific hydrogen production pathways.\n",
      "Generate region-specific hydrogen supply chains.\n",
      "Generate region-specific biogas and syngas supply chains.\n",
      "Generate region-specific synthetic fuel supply chains.\n",
      "Generate region-specific biofuel supply chains.\n",
      "Generate new fuel markets.\n",
      "--> petrol, unleaded\n",
      "--> petrol, low-sulfur\n",
      "--> diesel, low-sulfur\n",
      "--> diesel\n",
      "--> natural gas\n",
      "--> hydrogen\n",
      "polyester-complexed starch biopolymer production has no fossil CO2 output.\n",
      "natural gas, high pressure, import from FI has no fossil CO2 output.\n",
      "natural gas, high pressure, import from FR has no fossil CO2 output.\n",
      "nickel mine operation and benefication to nickel concentrate, 16% Ni has no fossil CO2 output.\n",
      "mixed natural gas and biomethane production, high pressure has no fossil CO2 output.\n",
      "acetylene production has no fossil CO2 output.\n",
      "natural gas pressure reduction, from high to low pressure has no fossil CO2 output.\n",
      "sawing and planing, azobe, air dried has no fossil CO2 output.\n",
      "natural gas, high pressure, import from BE has no fossil CO2 output.\n",
      "natural gas, high pressure, import from NL has no fossil CO2 output.\n",
      "natural gas pressure reduction, from high to low pressure has no fossil CO2 output.\n",
      "natural gas pressure reduction, from high to low pressure has no fossil CO2 output.\n",
      "natural gas, high pressure, import from DE has no fossil CO2 output.\n",
      "natural gas pressure reduction, from high to low pressure has no fossil CO2 output.\n",
      "gold-silver mine operation and beneficiation has no fossil CO2 output.\n",
      "gold-silver mine operation and beneficiation has no fossil CO2 output.\n",
      "natural gas, high pressure, import from IT has no fossil CO2 output.\n",
      "sulfite pulp production, bleached has no fossil CO2 output.\n",
      "natural gas pressure reduction, from high to low pressure has no fossil CO2 output.\n",
      "natural gas pressure reduction, from high to low pressure has no fossil CO2 output.\n",
      "gold-silver mine operation and beneficiation has no fossil CO2 output.\n",
      "natural gas, high pressure, import from DE has no fossil CO2 output.\n",
      "cast iron production has no fossil CO2 output.\n",
      "natural gas pressure reduction, from high to low pressure has no fossil CO2 output.\n",
      "iron-nickel-chromium alloy production has no fossil CO2 output.\n",
      "natural gas pressure reduction, from high to low pressure has no fossil CO2 output.\n",
      "natural gas pressure reduction, from high to low pressure has no fossil CO2 output.\n",
      "trichloromethane production has no fossil CO2 output.\n",
      "gold-silver mine operation and beneficiation has no fossil CO2 output.\n",
      "natural gas pressure reduction, from high to low pressure has no fossil CO2 output.\n",
      "natural gas pressure reduction, from high to low pressure has no fossil CO2 output.\n",
      "natural gas pressure reduction, from high to low pressure has no fossil CO2 output.\n",
      "natural gas pressure reduction, from high to low pressure has no fossil CO2 output.\n",
      "natural gas, high pressure, import from DE has no fossil CO2 output.\n",
      "sawing and planing, azobe, air dried has no fossil CO2 output.\n",
      "natural gas, high pressure, import from TR has no fossil CO2 output.\n",
      "natural gas, high pressure, import from DE has no fossil CO2 output.\n",
      "Farming and supply of wheat straw has no fossil CO2 output.\n",
      "Done!\n"
     ]
    }
   ],
   "source": [
    "ndb.update_fuels()"
   ]
  },
  {
   "cell_type": "code",
   "execution_count": 59,
   "id": "d4747456",
   "metadata": {},
   "outputs": [
    {
     "name": "stdout",
     "output_type": "stream",
     "text": [
      "\n",
      "/////////////////////////// EMISSIONS //////////////////////////////\n",
      "Integrating GAINS EU emission factors.\n",
      "Integrating GAINS IAM emission factors.\n"
     ]
    }
   ],
   "source": [
    "ndb.update_emissions()"
   ]
  },
  {
   "cell_type": "code",
   "execution_count": 60,
   "id": "b0c1cd93",
   "metadata": {},
   "outputs": [
    {
     "name": "stdout",
     "output_type": "stream",
     "text": [
      "Write new database(s) to Brightway2.\n",
      "Prepare database 1.\n",
      "- check for duplicates...\n",
      "- check for values format...\n",
      "- relinking exchanges...\n",
      "Done!\n",
      "Database ecoinvent_cutoff_3.9_remind_SSP2-Base_2050 already exists: it will be overwritten.\n"
     ]
    },
    {
     "name": "stderr",
     "output_type": "stream",
     "text": [
      "Writing activities to SQLite3 database:\n",
      "0% [##############################] 100% | ETA: 00:00:00\n",
      "Total time elapsed: 00:00:44\n"
     ]
    },
    {
     "name": "stdout",
     "output_type": "stream",
     "text": [
      "Title: Writing activities to SQLite3 database:\n",
      "  Started: 08/22/2023 10:31:09\n",
      "  Finished: 08/22/2023 10:31:53\n",
      "  Total time elapsed: 00:00:44\n",
      "  CPU %: 75.30\n",
      "  Memory %: 22.69\n",
      "Created database: ecoinvent_cutoff_3.9_remind_SSP2-Base_2050\n",
      "Generate scenario report.\n",
      "Report saved under C:\\Users\\sabbas\\export\\scenario_report.\n",
      "Generate change report.\n",
      "Report saved under C:\\Users\\sabbas.\n"
     ]
    }
   ],
   "source": [
    "ndb.write_db_to_brightway()"
   ]
  },
  {
   "cell_type": "code",
   "execution_count": 61,
   "id": "e5fdb876",
   "metadata": {},
   "outputs": [
    {
     "name": "stdout",
     "output_type": "stream",
     "text": [
      "Generate scenario report.\n",
      "Report saved under C:\\Users\\sabbas\\export\\scenario_report.\n"
     ]
    }
   ],
   "source": [
    "ndb.generate_scenario_report()"
   ]
  },
  {
   "cell_type": "code",
   "execution_count": 62,
   "id": "8f2a9135",
   "metadata": {},
   "outputs": [
    {
     "name": "stdout",
     "output_type": "stream",
     "text": [
      "Generate change report.\n",
      "Report saved under C:\\Users\\sabbas.\n"
     ]
    }
   ],
   "source": [
    "ndb.generate_change_report()"
   ]
  },
  {
   "cell_type": "code",
   "execution_count": 47,
   "id": "3a8d1516",
   "metadata": {},
   "outputs": [
    {
     "data": {
      "text/plain": [
       "Databases dictionary with 7 object(s):\n",
       "\tbiosphere3\n",
       "\tecoinvent\n",
       "\tecoinvent 3.1 cutoff\n",
       "\tecoinvent 3.8 cutoff\n",
       "\tecoinvent 3.9 cutoff\n",
       "\tecoinvent_cutoff_3.8_image_SSP2-RCP19_2050\n",
       "\tecoinvent_cutoff_3.8_remind_SSP2-PkBudg500_2050"
      ]
     },
     "execution_count": 47,
     "metadata": {},
     "output_type": "execute_result"
    }
   ],
   "source": [
    "databases"
   ]
  },
  {
   "cell_type": "markdown",
   "id": "fb1d8ad0",
   "metadata": {},
   "source": [
    "## Create a new biosphere flow for non-fossil CO2 to geological storage"
   ]
  },
  {
   "cell_type": "code",
   "execution_count": 52,
   "id": "9362c688",
   "metadata": {},
   "outputs": [
    {
     "data": {
      "text/plain": [
       "Brightway2 SQLiteBackend: biosphere3"
      ]
     },
     "execution_count": 52,
     "metadata": {},
     "output_type": "execute_result"
    }
   ],
   "source": [
    "biosphere=Database('biosphere3')\n",
    "biosphere"
   ]
  },
  {
   "cell_type": "code",
   "execution_count": 54,
   "id": "6cec40a8",
   "metadata": {},
   "outputs": [],
   "source": [
    "new_flow = biosphere.new_activity('CO2 to geological storage, non-fossil', **{'name':'CO2 to geological storage, non-fossil',\n",
    "                                                                             'unit':'kilogram',\n",
    "                                                                             'type':'storage',\n",
    "                                                                             'categories':('geological storage',)})\n",
    "new_flow.save()"
   ]
  },
  {
   "cell_type": "code",
   "execution_count": 55,
   "id": "3d6b5051",
   "metadata": {},
   "outputs": [
    {
     "data": {
      "text/plain": [
       "'CO2 to geological storage, non-fossil' (kilogram, GLO, ('geological storage',))"
      ]
     },
     "execution_count": 55,
     "metadata": {},
     "output_type": "execute_result"
    }
   ],
   "source": [
    "CO2_to_storage = [x for x in Database(\"biosphere3\") if 'CO2 to geological storage, non-fossil' in x['name']][0]\n",
    "CO2_to_storage"
   ]
  },
  {
   "cell_type": "markdown",
   "id": "58ca17c1",
   "metadata": {},
   "source": [
    "Step 2: add characterization for this flow - we will copy a flow for non-fossil CO2 to soil or biomass stock, as it will have the same characterisation factors. "
   ]
  },
  {
   "cell_type": "code",
   "execution_count": 56,
   "id": "1032b357",
   "metadata": {},
   "outputs": [
    {
     "data": {
      "text/plain": [
       "'Carbon dioxide, to soil or biomass stock' (kilogram, None, ('soil',))"
      ]
     },
     "execution_count": 56,
     "metadata": {},
     "output_type": "execute_result"
    }
   ],
   "source": [
    "co2_to_soil = [x for x in Database(\"biosphere3\") if \"Carbon dioxide, to soil or biomass stock\" in str(x) and \"('soil',))\" in str(x)][0]\n",
    "co2_to_soil"
   ]
  },
  {
   "cell_type": "code",
   "execution_count": 15,
   "id": "9a736fbc",
   "metadata": {},
   "outputs": [],
   "source": [
    "lcia_methods={\n",
    "    'CC':('IPCC 2013', 'climate change', 'GWP 100a'),\n",
    "    'TA':('ReCiPe Midpoint (H)', 'terrestrial acidification', 'TAP100'),\n",
    "    'POF':('ReCiPe Midpoint (H)','photochemical oxidant formation','POFP'),\n",
    "    'PMF':('ReCiPe Midpoint (H)', 'particulate matter formation', 'PMFP'),\n",
    "    'MD':('ReCiPe Midpoint (H)', 'metal depletion', 'MDP'),\n",
    "    'HT':('ReCiPe Midpoint (H)', 'human toxicity', 'HTPinf'),\n",
    "    'MET':('ReCiPe Midpoint (H)', 'marine ecotoxicity', 'METPinf'),\n",
    "    'ME':('ReCiPe Midpoint (H)', 'marine eutrophication', 'MEP'),\n",
    "    'FD':('ReCiPe Midpoint (H)', 'fossil depletion', 'FDP'),\n",
    "    'IR':('ReCiPe Midpoint (H)', 'ionising radiation', 'IRP_HE'),\n",
    "    'OD':('ReCiPe Midpoint (H)', 'ozone depletion', 'ODPinf'),\n",
    "    'FET':('ReCiPe Midpoint (H)', 'freshwater ecotoxicity', 'FETPinf'),\n",
    "    'TET':('ReCiPe Midpoint (H)', 'terrestrial ecotoxicity', 'TETPinf'),\n",
    "    'ALO':('ReCiPe Midpoint (H)', 'agricultural land occupation', 'ALOP'),\n",
    "    'NLT':('ReCiPe Midpoint (H)', 'natural land transformation', 'NLTP'),\n",
    "    'ULO':('ReCiPe Midpoint (H)', 'urban land occupation', 'ULOP'),\n",
    "    'WD':('ReCiPe Midpoint (H)', 'water depletion', 'WDP'),\n",
    "    'FE':('ReCiPe Midpoint (H)', 'freshwater eutrophication', 'FEP'),\n",
    "    'R_HH' : ('ReCiPe Endpoint (H,A)', 'human health', 'total'),\n",
    "    'R_EQ' : ('ReCiPe Endpoint (H,A)', 'ecosystem quality', 'total'),\n",
    "    'R_R' : ('ReCiPe Endpoint (H,A)', 'resources', 'total'),\n",
    "    'R_Total' : ('ReCiPe Endpoint (H,A)', 'total', 'total'),\n",
    "    \n",
    "    'CEDB': ('cumulative energy demand','biomass','renewable energy resources, biomass'),\n",
    "      'CEDF': ('cumulative energy demand','fossil','non-renewable energy resources, fossil'),\n",
    "      'CEDG': ('cumulative energy demand','geothermal','renewable energy resources, geothermal, converted'),\n",
    "      'CEDN': ('cumulative energy demand','nuclear','non-renewable energy resources, nuclear'),\n",
    "      'CEDFr': ('cumulative energy demand','primary forest','non-renewable energy resources, primary forest'),\n",
    "      'CEDS': ('cumulative energy demand','solar','renewable energy resources, solar, converted'),\n",
    "      'CEDH': ('cumulative energy demand','water','renewable energy resources, potential (in barrage water), converted'),\n",
    "      'CEDW': ('cumulative energy demand','wind','renewable energy resources, kinetic (in wind), converted')\n",
    "\n",
    "    }"
   ]
  },
  {
   "cell_type": "code",
   "execution_count": null,
   "id": "1996ab72",
   "metadata": {},
   "outputs": [],
   "source": []
  }
 ],
 "metadata": {
  "kernelspec": {
   "display_name": "Python 3 (ipykernel)",
   "language": "python",
   "name": "python3"
  },
  "language_info": {
   "codemirror_mode": {
    "name": "ipython",
    "version": 3
   },
   "file_extension": ".py",
   "mimetype": "text/x-python",
   "name": "python",
   "nbconvert_exporter": "python",
   "pygments_lexer": "ipython3",
   "version": "3.9.16"
  }
 },
 "nbformat": 4,
 "nbformat_minor": 5
}
